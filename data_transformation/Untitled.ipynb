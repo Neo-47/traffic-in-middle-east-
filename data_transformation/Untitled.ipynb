{
 "cells": [
  {
   "cell_type": "code",
   "execution_count": 22,
   "id": "866d0adc-6838-4648-b543-2fdf79a0c596",
   "metadata": {},
   "outputs": [],
   "source": [
    "import pyspark\n",
    "from pyspark.sql import SparkSession\n",
    "from pyspark.sql import types\n",
    "import pandas as pd\n",
    "import pyspark.sql.functions as F\n",
    "from pyspark.sql.functions import isnan, when, count, col"
   ]
  },
  {
   "cell_type": "code",
   "execution_count": 24,
   "id": "5d653405-dfd0-4bf5-bd34-1d721380e111",
   "metadata": {},
   "outputs": [
    {
     "name": "stdout",
     "output_type": "stream",
     "text": [
      "<class 'pyspark.sql.session.SparkSession'>\n"
     ]
    }
   ],
   "source": [
    "spark = SparkSession.builder \\\n",
    "    .master(\"local[*]\") \\\n",
    "    .appName('test') \\\n",
    "    .getOrCreate()\n",
    "\n",
    "print(type(spark))\n",
    "\n",
    "    "
   ]
  },
  {
   "cell_type": "code",
   "execution_count": 3,
   "id": "0b60f50c-8709-483c-b757-84d743c62e97",
   "metadata": {},
   "outputs": [],
   "source": [
    "    \n",
    "df_green = spark.read \\\n",
    "    .option(\"header\", \"true\") \\\n",
    "    .csv('/home/melse/traffic_project/data_ingestion/data/traffic-index-in-saudi-arabia-and-middle-east/traffic_index.csv')\n",
    "    "
   ]
  },
  {
   "cell_type": "code",
   "execution_count": 4,
   "id": "2d122fd0-62eb-45e1-bf7e-8bfcaa484e77",
   "metadata": {},
   "outputs": [
    {
     "name": "stdout",
     "output_type": "stream",
     "text": [
      "City                    object\n",
      "Datetime                object\n",
      "TrafficIndexLive         int64\n",
      "JamsCount                int64\n",
      "JamsDelay              float64\n",
      "JamsLength             float64\n",
      "TrafficIndexWeekAgo      int64\n",
      "TravelTimeHistoric     float64\n",
      "TravelTimeLive         float64\n",
      "dtype: object\n"
     ]
    }
   ],
   "source": [
    "df = pd.read_csv('/home/melse/traffic_project/data_ingestion/data/traffic-index-in-saudi-arabia-and-middle-east/traffic_index.csv')\n",
    "print(df.dtypes)\n"
   ]
  },
  {
   "cell_type": "code",
   "execution_count": 5,
   "id": "4f45668c-c2a0-4077-a437-91110c9b2ab3",
   "metadata": {},
   "outputs": [
    {
     "name": "stderr",
     "output_type": "stream",
     "text": [
      "/home/melse/spark/spark-3.3.4-bin-hadoop3-scala2.13/python/pyspark/sql/pandas/conversion.py:474: FutureWarning: iteritems is deprecated and will be removed in a future version. Use .items instead.\n",
      "  for column, series in pdf.iteritems():\n",
      "/home/melse/spark/spark-3.3.4-bin-hadoop3-scala2.13/python/pyspark/sql/pandas/conversion.py:486: FutureWarning: iteritems is deprecated and will be removed in a future version. Use .items instead.\n",
      "  for column, series in pdf.iteritems():\n"
     ]
    },
    {
     "name": "stdout",
     "output_type": "stream",
     "text": [
      "StructType([StructField('City', StringType(), True), StructField('Datetime', StringType(), True), StructField('TrafficIndexLive', LongType(), True), StructField('JamsCount', LongType(), True), StructField('JamsDelay', DoubleType(), True), StructField('JamsLength', DoubleType(), True), StructField('TrafficIndexWeekAgo', LongType(), True), StructField('TravelTimeHistoric', DoubleType(), True), StructField('TravelTimeLive', DoubleType(), True)])\n"
     ]
    }
   ],
   "source": [
    "schema = spark.createDataFrame(df).schema\n",
    "print(schema)"
   ]
  },
  {
   "cell_type": "code",
   "execution_count": 6,
   "id": "ac478f29-95db-4a27-83ed-21253b467770",
   "metadata": {},
   "outputs": [],
   "source": [
    "new_schema = types.StructType([types.StructField('City', types.StringType(), True),\n",
    "                         types.StructField('Datetime', types.TimestampType(), True),\n",
    "                         types.StructField('TrafficIndexLive', types.IntegerType(), True),\n",
    "                         types.StructField('JamsCount', types.IntegerType(), True),\n",
    "                         types.StructField('JamsDelay', types.FloatType(), True),\n",
    "                         types.StructField('JamsLength', types.FloatType(), True),\n",
    "                         types.StructField('TrafficIndexWeekAgo', types.IntegerType(), True),\n",
    "                         types.StructField('TravelTimeHistoric', types.FloatType(), True),\n",
    "                         types.StructField('TravelTimeLive', types.FloatType(), True)])"
   ]
  },
  {
   "cell_type": "code",
   "execution_count": 7,
   "id": "c71633f2-0c09-40ec-909c-97be26e5bb0b",
   "metadata": {},
   "outputs": [],
   "source": [
    "new_df = spark.read \\\n",
    "    .option(\"header\", \"true\") \\\n",
    "    .schema(new_schema) \\\n",
    "    .csv('/home/melse/traffic_project/data_ingestion/data/traffic-index-in-saudi-arabia-and-middle-east/traffic_index.csv')\n",
    "    "
   ]
  },
  {
   "cell_type": "code",
   "execution_count": 8,
   "id": "8811a2fc-78ae-4465-8494-97417a0318d9",
   "metadata": {},
   "outputs": [
    {
     "name": "stdout",
     "output_type": "stream",
     "text": [
      "root\n",
      " |-- City: string (nullable = true)\n",
      " |-- Datetime: timestamp (nullable = true)\n",
      " |-- TrafficIndexLive: integer (nullable = true)\n",
      " |-- JamsCount: integer (nullable = true)\n",
      " |-- JamsDelay: float (nullable = true)\n",
      " |-- JamsLength: float (nullable = true)\n",
      " |-- TrafficIndexWeekAgo: integer (nullable = true)\n",
      " |-- TravelTimeHistoric: float (nullable = true)\n",
      " |-- TravelTimeLive: float (nullable = true)\n",
      "\n"
     ]
    }
   ],
   "source": [
    "new_df.printSchema()"
   ]
  },
  {
   "cell_type": "code",
   "execution_count": 9,
   "id": "ebf256f9-0002-406f-b277-c5b95224267b",
   "metadata": {},
   "outputs": [
    {
     "name": "stdout",
     "output_type": "stream",
     "text": [
      "+--------+-------------------+----------------+---------+---------+----------+-------------------+------------------+--------------+\n",
      "|    City|           Datetime|TrafficIndexLive|JamsCount|JamsDelay|JamsLength|TrafficIndexWeekAgo|TravelTimeHistoric|TravelTimeLive|\n",
      "+--------+-------------------+----------------+---------+---------+----------+-------------------+------------------+--------------+\n",
      "|Abudhabi|2023-07-07 08:01:30|               6|        4|     15.6|       0.7|                 13|          59.61192|     54.803616|\n",
      "|Abudhabi|2023-07-07 09:01:30|               7|        7|     20.5|       1.7|                  8|         60.221386|      56.11863|\n",
      "|Abudhabi|2023-07-07 10:46:30|               7|        8|     25.0|       2.8|                  6|          59.16198|     55.518833|\n",
      "|Abudhabi|2023-07-07 11:16:30|               8|       11|     30.6|       5.5|                  6|         59.738136|     56.413918|\n",
      "|Abudhabi|2023-07-07 12:01:30|               8|       20|     62.1|       6.5|                  5|         58.958313|     56.059246|\n",
      "|Abudhabi|2023-07-07 13:01:30|               7|       11|     35.1|       4.9|                  5|         61.207996|     57.858467|\n",
      "|Abudhabi|2023-07-07 14:01:30|               5|        5|     13.9|       1.3|                  5|         59.285522|     54.725414|\n",
      "|Abudhabi|2023-07-07 15:16:30|               6|       14|     47.5|       5.4|                  5|         59.592636|     55.270195|\n",
      "|Abudhabi|2023-07-07 16:46:30|              10|       17|     56.0|       5.9|                  7|         60.901478|     57.429188|\n",
      "|Abudhabi|2023-07-07 17:46:30|              13|       41|    138.8|      16.8|                  8|         61.689175|     59.397415|\n",
      "|Abudhabi|2023-07-07 18:01:30|              13|       31|    105.7|      14.4|                 10|         62.280186|     60.312843|\n",
      "|Abudhabi|2023-07-07 19:31:00|              13|       46|    145.4|      19.9|                 12|         60.553944|     60.178898|\n",
      "|Abudhabi|2023-07-07 20:01:00|              13|       39|    126.7|      13.2|                 12|         60.502705|      60.69227|\n",
      "|Abudhabi|2023-07-07 21:01:00|              10|       17|     53.4|       4.9|                  9|          59.48456|       59.4904|\n",
      "|Abudhabi|2023-07-07 22:01:00|               7|        8|     17.4|       1.4|                  7|         58.611454|      57.82968|\n",
      "|Abudhabi|2023-07-07 23:01:00|               5|        5|     16.6|       0.9|                  5|         57.670242|     55.713867|\n",
      "|Abudhabi|2023-07-08 00:01:30|               3|        3|     11.4|       0.6|                  3|         55.511696|      53.25379|\n",
      "|Abudhabi|2023-07-08 01:01:30|               2|        2|      7.9|       0.3|                  1|          55.29079|      52.24495|\n",
      "|Abudhabi|2023-07-08 02:01:30|               2|        1|      1.2|       0.3|                  1|          55.31151|      52.30135|\n",
      "|Abudhabi|2023-07-08 03:31:30|               3|        2|      8.5|       0.5|                  2|         53.779236|     51.159283|\n",
      "+--------+-------------------+----------------+---------+---------+----------+-------------------+------------------+--------------+\n",
      "only showing top 20 rows\n",
      "\n"
     ]
    }
   ],
   "source": [
    "new_df.show()"
   ]
  },
  {
   "cell_type": "code",
   "execution_count": 11,
   "id": "809ddefd-a3db-49d9-bcd3-616d6b458da3",
   "metadata": {},
   "outputs": [
    {
     "data": {
      "text/plain": [
       "['City',\n",
       " 'Datetime',\n",
       " 'TrafficIndexLive',\n",
       " 'JamsCount',\n",
       " 'JamsDelay',\n",
       " 'JamsLength',\n",
       " 'TrafficIndexWeekAgo',\n",
       " 'TravelTimeHistoric',\n",
       " 'TravelTimeLive']"
      ]
     },
     "execution_count": 11,
     "metadata": {},
     "output_type": "execute_result"
    }
   ],
   "source": [
    "new_df.columns"
   ]
  },
  {
   "cell_type": "code",
   "execution_count": 21,
   "id": "d494ff3c-60c7-4c4e-97bc-d6b830d53339",
   "metadata": {},
   "outputs": [
    {
     "name": "stdout",
     "output_type": "stream",
     "text": [
      "+----+----------------+---------+---------+----------+-------------------+------------------+--------------+\n",
      "|City|TrafficIndexLive|JamsCount|JamsDelay|JamsLength|TrafficIndexWeekAgo|TravelTimeHistoric|TravelTimeLive|\n",
      "+----+----------------+---------+---------+----------+-------------------+------------------+--------------+\n",
      "|   0|               0|        0|        0|         0|                  0|                 0|             0|\n",
      "+----+----------------+---------+---------+----------+-------------------+------------------+--------------+\n",
      "\n"
     ]
    }
   ],
   "source": [
    "columns = ['City',\n",
    "     'TrafficIndexLive',\n",
    "     'JamsCount',\n",
    "     'JamsDelay',\n",
    "     'JamsLength',\n",
    "     'TrafficIndexWeekAgo',\n",
    "     'TravelTimeHistoric',\n",
    "     'TravelTimeLive']\n",
    "\n",
    "new_df.select([count(when(isnan(c), c)).alias(c) for c in columns]).show()"
   ]
  },
  {
   "cell_type": "code",
   "execution_count": null,
   "id": "8eaffaa4-f5bd-49b1-a088-101774e3061a",
   "metadata": {},
   "outputs": [],
   "source": []
  }
 ],
 "metadata": {
  "kernelspec": {
   "display_name": "Python 3 (ipykernel)",
   "language": "python",
   "name": "python3"
  },
  "language_info": {
   "codemirror_mode": {
    "name": "ipython",
    "version": 3
   },
   "file_extension": ".py",
   "mimetype": "text/x-python",
   "name": "python",
   "nbconvert_exporter": "python",
   "pygments_lexer": "ipython3",
   "version": "3.9.18"
  }
 },
 "nbformat": 4,
 "nbformat_minor": 5
}
